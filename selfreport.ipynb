{
 "cells": [
  {
   "cell_type": "code",
   "execution_count": 5,
   "metadata": {},
   "outputs": [
    {
     "name": "stdout",
     "output_type": "stream",
     "text": [
      "Wed Dec 23 11:13:35 2020\n",
      "Wed Dec 23 11:14:02 2020\n",
      "Wed Dec 23 11:14:27 2020\n"
     ]
    }
   ],
   "source": [
    "# 手动填报\n",
    "import selfreport\n",
    "\n",
    "# day: 1 night: 2\n",
    "type = 1\n",
    "userList = [{\n",
    "        \"username\": \"17120210\",\n",
    "        \"password\": \"Ykt08166\"\n",
    "    },{\n",
    "        \"username\": \"17120209\",\n",
    "        \"password\": \"Qwe15799\"\n",
    "    },{\n",
    "        \"username\": \"17120199\",\n",
    "        \"password\": \"Zzhyc123\"\n",
    "    }]\n",
    "sp = selfreport.SelfReport()\n",
    "for user in userList:\n",
    "    sp.auto_report(user[\"username\"], user[\"password\"], type)"
   ]
  },
  {
   "cell_type": "code",
   "execution_count": null,
   "metadata": {},
   "outputs": [],
   "source": []
  }
 ],
 "metadata": {
  "kernelspec": {
   "display_name": "Python 3",
   "language": "python",
   "name": "python3"
  },
  "language_info": {
   "codemirror_mode": {
    "name": "ipython",
    "version": 3
   },
   "file_extension": ".py",
   "mimetype": "text/x-python",
   "name": "python",
   "nbconvert_exporter": "python",
   "pygments_lexer": "ipython3",
   "version": "3.7.3"
  }
 },
 "nbformat": 4,
 "nbformat_minor": 4
}
